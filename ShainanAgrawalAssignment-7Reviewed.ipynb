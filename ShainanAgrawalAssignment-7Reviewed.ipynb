{
 "cells": [
  {
   "cell_type": "markdown",
   "metadata": {},
   "source": [
    "## Shainan Agrawal\n",
    "### Date: 11/06/2020\n",
    "<font color=\"red\">\n",
    "\n",
    "### Assignment Grade: 32/35\n",
    "### very Good. \n",
    "\n",
    "</font>"
   ]
  },
  {
   "cell_type": "markdown",
   "metadata": {},
   "source": [
    "<font color = ‘blue’ size = 1>\n",
    "\n",
    "### Grading Comments – Totality of all points noted below resulted in a reduction of 3 Points\n",
    "\n",
    "1. display_movies_by_category() Function:\n",
    "    \n",
    "    a. Line 4: The query string should have '?' in place of embedded {movie_category} and {minimum running time}. The parameters received via the function header is passed into the querty string via arguments to the execute statement on line 12. (-3)\n",
    "    \n",
    "    b. Line 12: the correct execute statement would pass in the received category and running time values to the query string as follows:\n",
    "    <code> \n",
    "    movie_category_cursor.execute(movies_category_query, \\\n",
    "        (movie_category,minimum_running_time))\n",
    "    </code>\n",
    "    \n",
    "    \n",
    "2. Main() function:\n",
    "    \n",
    "    a. Line 6: The correct value for minimum running time is supposed to be 90 minute, and not 60 mins. \n",
    "</font>"
   ]
  },
  {
   "cell_type": "markdown",
   "metadata": {},
   "source": [
    "###  Access movies.sqlite database and display movie results as per select query\n",
    "#### A program to access SQL Movies Database and write SQL queries to display movie categories and details. \n",
    "#### Running time is displayed in Scatter Plot. Count of number of movies by categoryis diplayed in Bar Chart."
   ]
  },
  {
   "cell_type": "code",
   "execution_count": 1,
   "metadata": {},
   "outputs": [],
   "source": [
    "def get_connection():\n",
    "    \"\"\"Access SQLite database movies.sqlite and open connection with Database\"\"\"\n",
    "    \n",
    "    import sqlite3\n",
    "    DataBase_File = \"/Users/cis_developer/CIS5357Fall2020/movies.sqlite\"\n",
    "    connection = sqlite3.connect(DataBase_File)\n",
    "    return connection\n",
    "    "
   ]
  },
  {
   "cell_type": "code",
   "execution_count": 2,
   "metadata": {},
   "outputs": [],
   "source": [
    "def close_connection(connection):\n",
    "    \"\"\" Close the opened connection with Database\"\"\"\n",
    "    \n",
    "    from contextlib import closing\n",
    "    if connection:\n",
    "        connection.close()\n",
    "    "
   ]
  },
  {
   "cell_type": "code",
   "execution_count": 3,
   "metadata": {},
   "outputs": [],
   "source": [
    "def display_movies_by_category(connection,movie_category, minimum_running_time):\n",
    "    \"\"\"SQL SELECT query for movies classified as the specified genre and minimum running time\"\"\"\n",
    "    \n",
    "    movies_category_query = (f\"\"\"SELECT movieid, movie.name, year, minutes, category.name\n",
    "                                 FROM movie INNER JOIN category\n",
    "                                 ON movie.categoryID = category.CategoryID\n",
    "                                 WHERE category.name = '{movie_category}' \n",
    "                                 and minutes >= {minimum_running_time}\"\"\")\n",
    "\n",
    "    connection = get_connection()\n",
    "    movie_category_cursor = connection.cursor()\n",
    "    movie_category_cursor.execute(movies_category_query)\n",
    "    movie_category_results = movie_category_cursor.fetchall() \n",
    "    print(f\"\\n{format('Category','<8')}\\t{format('Movie ID','>5')}\\t {format('Title','<30')}\\\n",
    "    \\t\\t\\t{format('Year','>5')}\\t{format('Minutes','>4')}\")\n",
    "    print(f\"{format('--------','>8')}\\t{format('--------','>5')}\\t {format('-----','<30')}\\\n",
    "    \\t\\t\\t{format('----','>5')}\\t{format('-------','>4')}\")\n",
    "    for movie_categoy_record in movie_category_results:\n",
    "            print(f\"{format(movie_categoy_record[4],'<8')}\\t{format(movie_categoy_record[0],'>5')}\\\n",
    "            {format(movie_categoy_record[1],'<30')}\\\n",
    "              \\t\\t{format(movie_categoy_record[2],'>5')}\\t{format(movie_categoy_record[3],'>4')}\")\n"
   ]
  },
  {
   "cell_type": "code",
   "execution_count": 4,
   "metadata": {},
   "outputs": [],
   "source": [
    "def display_movie_length(connection):\n",
    "    \"\"\"SQL SELECT query to retrieve movie ID and running length for each movie in the database\"\"\"\n",
    "\n",
    "    movie_id_list = []\n",
    "    movie_length_list = []\n",
    "    movies_length_query = \"\"\"SELECT movieid, minutes\n",
    "                             FROM movie\n",
    "                             ORDER BY movieid asc\"\"\"\n",
    "\n",
    "    movie_length_cursor = connection.cursor()\n",
    "    movie_length_cursor.execute(movies_length_query)\n",
    "    movie_length_results = movie_length_cursor.fetchall()\n",
    "\n",
    "    for i in range(0,len(movie_length_results)):\n",
    "        movie_id = movie_length_results[i][0]\n",
    "        movie_length = float(movie_length_results[i][1])\n",
    "\n",
    "        movie_id_list.append(movie_id)\n",
    "        movie_length_list.append(movie_length)\n",
    "    display_scatter_plot(movie_id_list,movie_length_list)\n",
    "    "
   ]
  },
  {
   "cell_type": "code",
   "execution_count": 5,
   "metadata": {},
   "outputs": [],
   "source": [
    "def display_scatter_plot(movie_id_list,movie_length_list):\n",
    "    \"\"\"Scatter Plot to display running time of each movie versus Movie ID\"\"\"\n",
    "    \n",
    "    import matplotlib.pyplot as  plt\n",
    "    OFFSET_X = 5\n",
    "    OFFSET_Y = 5\n",
    "\n",
    "    plt.figure(figsize=(8,8))\n",
    "    plt.style.use('seaborn')  \n",
    "    plt.scatter(movie_id_list,movie_length_list,s=130,marker=\"o\",color='b')\n",
    "    plt.title('Movie ID versus Movie Duration Scatter Plot',fontsize=14)\n",
    "    plt.ylabel('Running Time in Minutes',fontsize=12)\n",
    "    plt.xlabel('Movie ID',fontsize=12)\n",
    "    plt.xlim(0,max(movie_id_list)+OFFSET_X)\n",
    "    plt.ylim(0,max(movie_length_list)+OFFSET_Y)\n",
    "    plt.tick_params(axis ='both', which ='both', length = 3)\n",
    "    "
   ]
  },
  {
   "cell_type": "code",
   "execution_count": 6,
   "metadata": {},
   "outputs": [],
   "source": [
    "def display_movie_count_by_category(connection):\n",
    "    \"\"\"SELECT query to retrieve a count of movies by category\"\"\"\n",
    "\n",
    "    movie_category_list = []\n",
    "    movie_count_list=[]\n",
    "\n",
    "    movie_count_query = \"\"\"SELECT category.name, count(movie.categoryID)\n",
    "                           FROM movie INNER JOIN category \n",
    "                           ON movie.categoryID = category.CategoryID\n",
    "                           GROUP BY category.name\"\"\"\n",
    "    \n",
    "    movie_count_cursor = connection.cursor()\n",
    "    movie_count_cursor.execute(movie_count_query)\n",
    "    movie_count_results = movie_count_cursor.fetchall() \n",
    "\n",
    "    for i in range(0,len(movie_count_results)):\n",
    "        movie_category = movie_count_results[i][0]\n",
    "        movie_count = int(movie_count_results[i][1])\n",
    "\n",
    "        movie_category_list.append(movie_category)\n",
    "        movie_count_list.append(movie_count)\n",
    "    \n",
    "    display_bar_plot(movie_category_list,movie_count_list) \n",
    "    \n",
    "    print(f\"\\n{format('Category','<8')}\\t{format('Number of Movies','>5')}\")\n",
    "    print(f\"{format('----------','<8')}\\t{format('-----------------','>5')}\")\n",
    "    \n",
    "    for movie_category_record in movie_count_results:\n",
    "            print(f\"{format(movie_category_record[0],'<8')}\\t{format(movie_category_record[1],'>15')}\")\n",
    "    "
   ]
  },
  {
   "cell_type": "code",
   "execution_count": 7,
   "metadata": {},
   "outputs": [],
   "source": [
    "def display_bar_plot(movie_category_list,movie_count_list):\n",
    "    \"\"\"Bar Plot to display number of movies versus Movie Genre\"\"\"\n",
    "    \n",
    "    import matplotlib.pyplot as  plt\n",
    "    OFFSET=1\n",
    "\n",
    "    plt.figure(figsize=(4,4))\n",
    "    plt.style.use('seaborn')\n",
    "    plt.bar(movie_category_list,movie_count_list,color=['r','b','g'],width=0.4, align='center')\n",
    "    plt.grid(True)\n",
    "    plt.ylim(min(movie_count_list)-OFFSET,max(movie_count_list)+OFFSET)\n",
    "    plt.title('Number of Movies by Genre')\n",
    "    plt.xlabel('Movie Genre')\n",
    "    plt.ylabel('Number of Movies')\n",
    "    plt.tick_params(axis ='both', which ='both', length = 3)\n",
    "    "
   ]
  },
  {
   "cell_type": "code",
   "execution_count": 8,
   "metadata": {},
   "outputs": [],
   "source": [
    "def main():\n",
    "    \"\"\"This is the main driver program that controls the flow of execution\"\"\"\n",
    "\n",
    "    connection = get_connection() \n",
    "    display_movies_by_category(connection,'History',120)\n",
    "    display_movies_by_category(connection,'Animation',60) \n",
    "    display_movie_count_by_category(connection)\n",
    "    display_movie_length(connection)\n",
    "    close_connection(connection)\n",
    "    "
   ]
  },
  {
   "cell_type": "code",
   "execution_count": 9,
   "metadata": {},
   "outputs": [
    {
     "name": "stdout",
     "output_type": "stream",
     "text": [
      "\n",
      "Category\tMovie ID\t Title                             \t\t\t Year\tMinutes\n",
      "--------\t--------\t -----                             \t\t\t ----\t-------\n",
      "History \t    9            Gandhi                                      \t\t 1982\t 191\n",
      "History \t   11            Lawrence of Arabia                          \t\t 1962\t 216\n",
      "History \t   12            Hotel Rwanda                                \t\t 2004\t 121\n",
      "History \t   13            Twelve Years a Slave                        \t\t 2013\t 134\n",
      "\n",
      "Category\tMovie ID\t Title                             \t\t\t Year\tMinutes\n",
      "--------\t--------\t -----                             \t\t\t ----\t-------\n",
      "Animation\t    1            Spirit: Stallion of the Cimarron              \t\t 2002\t  83\n",
      "Animation\t    2            Spirited Away                               \t\t 2001\t 125\n",
      "Animation\t    3            Aladdin                                     \t\t 1992\t  90\n",
      "Animation\t    4            Ice Age                                     \t\t 2002\t  81\n",
      "Animation\t    5            Toy Story                                   \t\t 1995\t  81\n",
      "\n",
      "Category\tNumber of Movies\n",
      "----------\t-----------------\n",
      "Animation\t              5\n",
      "Comedy  \t              3\n",
      "History \t              5\n"
     ]
    },
    {
     "data": {
      "image/png": "[encoded data removed]",
      "text/plain": [
       "<Figure size 288x288 with 1 Axes>"
      ]
     },
     "metadata": {
      "needs_background": "light"
     },
     "output_type": "display_data"
    },
    {
     "data": {
      "image/png": "[encoded data removed]",
      "text/plain": [
       "<Figure size 576x576 with 1 Axes>"
      ]
     },
     "metadata": {},
     "output_type": "display_data"
    }
   ],
   "source": [
    "main()"
   ]
  }
 ],
 "metadata": {
  "kernelspec": {
   "display_name": "Python 3",
   "language": "python",
   "name": "python3"
  },
  "language_info": {
   "codemirror_mode": {
    "name": "ipython",
    "version": 3
   },
   "file_extension": ".py",
   "mimetype": "text/x-python",
   "name": "python",
   "nbconvert_exporter": "python",
   "pygments_lexer": "ipython3",
   "version": "3.8.3"
  }
 },
 "nbformat": 4,
 "nbformat_minor": 4
}
