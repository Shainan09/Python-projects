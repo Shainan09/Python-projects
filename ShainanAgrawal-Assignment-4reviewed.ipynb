{
 "cells": [
  {
   "cell_type": "markdown",
   "metadata": {},
   "source": [
    "## Shainan Agrawal\n",
    "### Date: 24/09/2020\n",
    "\n",
    "### <font color='red'> ASSIGNMENT GRADE = 20/20"
   ]
  },
  {
   "cell_type": "markdown",
   "metadata": {},
   "source": [
    "### Program # 4A\n",
    "#### A program to take input of miles driven and corresponding gas consumed and write these values to a CSV File."
   ]
  },
  {
   "cell_type": "markdown",
   "metadata": {},
   "source": [
    "### GRADING COMMENTS:   Totality of these comments resulted in a reduction of 0.0 points. \n",
    "\n",
    "<font size = 2>\n",
    "    \n",
    "1. Program # 4A:\n",
    "        \n",
    "        a. None\n",
    "        \n",
    "        \n",
    "2. Program # 4B:\n",
    "        a. Line 44: Shoukd use write() instead of writelines() since you are writing only one\n",
    "        record at a time. writelines() is reerved for writing a list of records. \n",
    "    "
   ]
  },
  {
   "cell_type": "code",
   "execution_count": 1,
   "metadata": {},
   "outputs": [
    {
     "name": "stdout",
     "output_type": "stream",
     "text": [
      "\n",
      "Please enter the number of Miles driven : 225\n",
      "Please enter the amount of Gas Consumed : 17\n",
      "Do you wish to continue (Y or N)? :y\n",
      "\n",
      "Please enter the number of Miles driven : 200\n",
      "Please enter the amount of Gas Consumed : 10\n",
      "Do you wish to continue (Y or N)? :n\n",
      "\n",
      "Program completed saving 2 mileage records in CSV file.\n",
      "\n"
     ]
    }
   ],
   "source": [
    "# This program will create a CSV file named Mileage.CSV, request the user to enter miles driven and \n",
    "# gallons of gas consumed and add the values to the Mileage.csv file.\n",
    "# ----------------------------------------------------------------\n",
    "# 1. Open the Mileage.csv for writing in the data (write mode)\n",
    "# 2. Initialise count entries variable to 0. This variable is to count the number of entries made in the file.\n",
    "# 3. Set continue varibale to 'Y' to start the loop\n",
    "# 3. while the user has not incated 'N' to stop:\n",
    "#       a. Request user to enter miles driven.\n",
    "#       b. Request user to enter gahttp://localhost:8888/notebooks/CIS%205357%20Fall%202020/Projects/StudentSubmissions-Assignment4/agrawalshainan_4194402_143494073_ShainanAgrawal-Assignment-4-2.ipynb#s consumed.\n",
    "#       c. write the miles driven and gas consumed in csv format to the file.\n",
    "#       d. Ask user if he/she wants to continue and assign the response to continue variable\n",
    "#       e. Incrcease value of count record by 1 in each loop.\n",
    "#       f. Prompt user if he wants to continue entry.\n",
    "# 4. if the user indicates no to coninue -\n",
    "# 5. Print the number of entries made in the file using count variable.\n",
    "# 6. Close the file. \n",
    "# --------------------------------------------------------------\n",
    "\n",
    "# Initialization\n",
    "mileage_output = open('/Users/cis_developer/CIS5357Fall2020/Mileage.csv','w')\n",
    "count_entries = 0\n",
    "continue_entry = 'Y'\n",
    "\n",
    "while continue_entry == 'Y':\n",
    "    \n",
    "    #Input section\n",
    "    miles_driven = input ('\\nPlease enter the number of Miles driven : ')\n",
    "    gas_consumed = input ('Please enter the amount of Gas Consumed : ')\n",
    "    \n",
    "    #Process\n",
    "    mileage_record = (f\"{miles_driven}, {gas_consumed}\")\n",
    "    \n",
    "    #Write to file\n",
    "    mileage_output.write (mileage_record + '\\n')\n",
    "    \n",
    "    continue_entry = input ('Do you wish to continue (Y or N)? :').upper()\n",
    "    count_entries +=1\n",
    "\n",
    "#Finalization\n",
    "print (f\"\\nProgram completed saving {count_entries} mileage records in CSV file.\\n\")\n",
    "mileage_output.close ()\n"
   ]
  },
  {
   "cell_type": "markdown",
   "metadata": {},
   "source": [
    "### Program # 4B\n",
    "#### This program will read mileage data from the CSV file created in (4A above), compute MPG, and save the results to another CSV file."
   ]
  },
  {
   "cell_type": "code",
   "execution_count": 2,
   "metadata": {},
   "outputs": [
    {
     "name": "stdout",
     "output_type": "stream",
     "text": [
      "Program completed processing 2 mileage records in CSV file\n"
     ]
    }
   ],
   "source": [
    "# A program to read miles travelled and gas consumed from an input CSV file, \n",
    "# compute mileage from the data read from input file and \n",
    "# Save the data on miles driven, gas consumed, and calculated mpg for the record to another CSV file mpg.csv\n",
    "#----------------------------------------------------------------\n",
    "# 1. Open the Mileage.csv for reading in the data (read mode)\n",
    "# 2. Open the mpg.csv for writing in the computed data (write mode)\n",
    "# 3. Set conount record =0 to count the entries made in the csv file.\n",
    "# 4. read all the lines (records) from the input file and assign to mileage_records.Strip new line character.\n",
    "# 5. Initialise while loop such that it keeps reading data from input file till the end of the file\n",
    "#      a. read the first line and split it. \n",
    "#      b. assign first value to miles driven and Change data type to integer\n",
    "#      c. assign second split value to gas consumed.Change data type to float\n",
    "#      d. Compute the miles per gallon as: mpg = miles driven/gallons of gas consumed\n",
    "#      e. Concatenate miles driven, gas consumed and computed miles_per_gallon so each is separated by a comma\n",
    "#      f. write the values to the write mpg.csv file.\n",
    "#      g. Incrcease value of count record by 1 in each loop.\n",
    "\n",
    "# 6. Print the number of entries made in the file using count variable.\n",
    "# 7. Close the file. \n",
    "# --------------------------------------------------------------\n",
    "\n",
    "# Initialization\n",
    "mileage_input = open('/Users/cis_developer/CIS5357Fall2020/Mileage.csv','r')\n",
    "computed_mpg_output = open ('/Users/cis_developer/CIS5357Fall2020/mpg.csv','w')\n",
    "\n",
    "count_record = 0\n",
    "\n",
    "# inputs - read the data from the input file\n",
    "mileage_record = mileage_input.readline().rstrip('\\n')\n",
    "\n",
    "while mileage_record !='':\n",
    "    \n",
    "    #Split the records saved in input file and assign them to correct variables.\n",
    "    mileage_record_split = mileage_record.split(',')\n",
    "    miles_driven = int (mileage_record_split[0])\n",
    "    gas_consumed = float (mileage_record_split[1])\n",
    "    \n",
    "    #Process\n",
    "    miles_per_gallon = miles_driven / gas_consumed\n",
    "    \n",
    "    computed_mileage_record =(f\"{miles_driven},{format (gas_consumed,'.1f')},{format(miles_per_gallon,'.2f')}\\n\")\n",
    "  \n",
    "    #Write the computed values to the output file\n",
    "    computed_mpg_output.writelines(computed_mileage_record)\n",
    "    count_record += 1\n",
    "    mileage_record = mileage_input.readline().rstrip('\\n')\n",
    "\n",
    "#Finalization   \n",
    "mileage_input.close()\n",
    "computed_mpg_output.close()\n",
    "print(f\"Program completed processing {count_record} mileage records in CSV file\")\n",
    "\n"
   ]
  },
  {
   "cell_type": "code",
   "execution_count": null,
   "metadata": {},
   "outputs": [],
   "source": []
  }
 ],
 "metadata": {
  "kernelspec": {
   "display_name": "Python 3",
   "language": "python",
   "name": "python3"
  },
  "language_info": {
   "codemirror_mode": {
    "name": "ipython",
    "version": 3
   },
   "file_extension": ".py",
   "mimetype": "text/x-python",
   "name": "python",
   "nbconvert_exporter": "python",
   "pygments_lexer": "ipython3",
   "version": "3.8.3"
  }
 },
 "nbformat": 4,
 "nbformat_minor": 4
}
