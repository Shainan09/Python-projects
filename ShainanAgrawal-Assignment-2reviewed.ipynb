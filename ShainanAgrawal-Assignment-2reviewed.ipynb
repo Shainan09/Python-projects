{
 "cells": [
  {
   "cell_type": "markdown",
   "metadata": {},
   "source": [
    "## Shainan Agrawal\n",
    "### Date: 11/09/2020\n",
    "\n",
    "### Assignment Grade = 10/10. very good"
   ]
  },
  {
   "cell_type": "markdown",
   "metadata": {},
   "source": [
    "### GRADE CALCULATOR\n",
    "####  To determine grades of students enrolled in a class, based on the average score in 4 subjects"
   ]
  },
  {
   "cell_type": "code",
   "execution_count": 1,
   "metadata": {},
   "outputs": [
    {
     "name": "stdout",
     "output_type": "stream",
     "text": [
      "---------------------INPUT----------------------\n",
      "Please enter your Name : Janet Moore\n",
      "Enter the marks in Exam Number 1 : 105\n",
      "Enter the marks in Exam Number 2 : 82.5\n",
      "Enter the marks in Exam Number 3 : 81\n",
      "Enter the marks in Exam Number 4 : 101\n",
      "\n",
      "--------------------OUTPUT----------------------\n",
      "\n",
      "Student Name\t\t:\t Janet Moore\n",
      "Exam Number 1\t\t:\t 105.00\n",
      "Exam Number 2\t\t:\t  82.50\n",
      "Exam Number 3\t\t:\t  81.00\n",
      "Exam Number 4\t\t:\t 101.00\n",
      "Average Score\t\t:\t  92.38\n",
      "Letter Grade Assigned\t:\t  A\n",
      "\n",
      "Please Note that an invalid score was entered for at least one exam.    \n",
      "Consequently, the assigned letter grade may be incorrect. \n",
      "\n",
      "---------------------END------------------------\n"
     ]
    }
   ],
   "source": [
    "# The below program determines letter grade for students based on the average score in 4 subjects.\n",
    "# If student enters invalid marks such that-\n",
    "# average score is less than 0 or more than 100, letter grade wont be displayed\n",
    "# if average score is in range but marks are less than 0 or more than 100, letter grade will be printed.\n",
    "# However, an error message will be displayed prompting that letter grade may be invalid.\n",
    "\n",
    "#Define Inputs and all constants used\n",
    "\n",
    "NUMBER_OF_EXAMS = 4\n",
    "A_LIMIT = 88.00\n",
    "B_LIMIT = 78.00\n",
    "C_LIMIT = 68.00\n",
    "D_LIMIT = 60.00\n",
    "MAXIMUM_MARKS = 100\n",
    "MINIMUM_MARKS = 0\n",
    "AVERAGE_MARKS_MIN = 0\n",
    "AVERAGE_MARKS_MAX = 100\n",
    "invalid_marks = False\n",
    "\n",
    "print('---------------------INPUT----------------------')\n",
    "student_name = input('Please enter your Name : ')                           # Promts User to Enter Name\n",
    "marks_exam_1 = float(input ('Enter the marks in Exam Number 1 : '))         # Take Input for Exam 1 Marks\n",
    "marks_exam_2 = float(input ('Enter the marks in Exam Number 2 : '))         # Take Input for Exam 2 Marks\n",
    "marks_exam_3 = float(input ('Enter the marks in Exam Number 3 : '))         # Take Input for Exam 3 Marks\n",
    "marks_exam_4 = float(input ('Enter the marks in Exam Number 4 : '))         # Take Input for Exam 4 Marks\n",
    "\n",
    "#Define Process\n",
    "\n",
    "total_score = marks_exam_1 + marks_exam_2 + marks_exam_3 + marks_exam_4      # Calculate Total Score\n",
    "average_score = total_score / NUMBER_OF_EXAMS                                # Calculate Average Score \n",
    "\n",
    "if (average_score > AVERAGE_MARKS_MAX)or(average_score < AVERAGE_MARKS_MIN): # Checks to see if average score is\n",
    "    letter_grade = 'Undefined'                                               # within defined range of 0 and 100\n",
    "elif average_score >= A_LIMIT :                                              # If average score is within range,\n",
    "    letter_grade = 'A'                                                       # grades are assigned\n",
    "elif average_score >= B_LIMIT:\n",
    "    letter_grade = 'B'\n",
    "elif average_score >= C_LIMIT:\n",
    "    letter_grade = 'C'\n",
    "elif average_score >= D_LIMIT:\n",
    "    letter_grade = 'D'\n",
    "else:\n",
    "    letter_grade = 'F'\n",
    "    \n",
    "if ((marks_exam_1 < MINIMUM_MARKS or marks_exam_1 > MAXIMUM_MARKS) or         # To validate that marks entered are \n",
    "    (marks_exam_2 < MINIMUM_MARKS or marks_exam_2 > MAXIMUM_MARKS) or         # within 0 to 100 range\n",
    "    (marks_exam_3 < MINIMUM_MARKS or marks_exam_3 > MAXIMUM_MARKS) or\n",
    "    (marks_exam_4 < MINIMUM_MARKS or marks_exam_4 > MAXIMUM_MARKS)):\n",
    "    \n",
    "    invalid_marks = True                                                      # If marks entered are not in range \n",
    "                                                                              # then invalid marks is set true\n",
    "#Define Output with conditions\n",
    "\n",
    "print('\\n--------------------OUTPUT----------------------')\n",
    "print ('\\nStudent Name\\t\\t:\\t',student_name)                                  # Displays Student Name\n",
    "print (F\"Exam Number 1\\t\\t:\\t {format (marks_exam_1,'6,.2f')}\")               # Displays marks in Exam 1\n",
    "print (F\"Exam Number 2\\t\\t:\\t {format (marks_exam_2,'6,.2f')}\")               # Displays marks in Exam 2\n",
    "print (F\"Exam Number 3\\t\\t:\\t {format (marks_exam_3,'6,.2f')}\")               # Displays marks in Exam 3\n",
    "print (F\"Exam Number 4\\t\\t:\\t {format (marks_exam_4,'6,.2f')}\")               # Displays marks in Exam 4\n",
    "print (F\"Average Score\\t\\t:\\t {format(average_score,'6,.2f')}\")               # Displays average marks in 4 exams\n",
    "\n",
    "if letter_grade == 'Undefined':                                               # If average score is not in range\n",
    "    letter_grade = 'Invalid Data entry.\\n\\t\\t\\t\\t Letter grade cannot be determined.'\n",
    "    print ('Letter Grade Assigned\\t:\\t', letter_grade)                       \n",
    "\n",
    "elif invalid_marks:                                                           # If marks entered are out of range\n",
    "    print ('Letter Grade Assigned\\t:\\t ', letter_grade)                       \n",
    "    print ('\\nPlease Note that an invalid score was entered for at least one exam.\\\n",
    "    \\nConsequently, the assigned letter grade may be incorrect. ')             \n",
    "    \n",
    "else:\n",
    "    print (\"Letter Grade Assigned\\t:\\t \", letter_grade)                       # Correct Letter Grade!!\n",
    "    \n",
    "print('\\n---------------------END------------------------')    \n",
    "\n"
   ]
  }
 ],
 "metadata": {
  "kernelspec": {
   "display_name": "Python 3",
   "language": "python",
   "name": "python3"
  },
  "language_info": {
   "codemirror_mode": {
    "name": "ipython",
    "version": 3
   },
   "file_extension": ".py",
   "mimetype": "text/x-python",
   "name": "python",
   "nbconvert_exporter": "python",
   "pygments_lexer": "ipython3",
   "version": "3.8.3"
  }
 },
 "nbformat": 4,
 "nbformat_minor": 4
}
