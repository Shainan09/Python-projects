{
 "cells": [
  {
   "cell_type": "markdown",
   "metadata": {},
   "source": [
    "## Shainan Agrawal                             Grade = 18/20\n",
    "### Date: 09/02/2020"
   ]
  },
  {
   "cell_type": "markdown",
   "metadata": {},
   "source": [
    "### TIP CALCULATOR\n",
    "#### To calculate tip on Food Bill"
   ]
  },
  {
   "cell_type": "markdown",
   "metadata": {},
   "source": [
    "### Grading Comments for Program 1 By Dr. Mehta                           \n",
    "## grade: 5/6\n",
    "Tip percentages should have been defined as CONSTANTS in the \n",
    "\n",
    "#Define Input section as: \n",
    "TIP_1 = 18.0 \n",
    "TIP_2 = 20.0 \n",
    "TIP_3 = 30.0\n",
    "\n",
    "This way if you want to calculate tips at any other percentages, all you would need to do is change the values for TIP_!, etc. You will, and should not, have to modify processes simply because the inputs changed.\n",
    "\n",
    "then in # Define Processes: This way\n",
    "\n",
    "tip_1 = TIP_1/100 * meal_price \n",
    "tip_2 = TIP_2/100 * meal_price \n",
    "tip_3 = TIP_3/100 * meal_price\n"
   ]
  },
  {
   "cell_type": "code",
   "execution_count": null,
   "metadata": {},
   "outputs": [],
   "source": [
    "# The below program calculates 18%, 20% and 30% tip on the given bill amount.\n",
    "\n",
    "# Define input\n",
    "meal_price = float (input ('Please enter the Bill Amount : '))     # Take input from user\n",
    "\n",
    "# Define Process\n",
    "tip_18 = (18/100) * meal_price                                     # Calculating 18% tip\n",
    "tip_20 = (20/100) * meal_price                                     # Calculating 20% tip\n",
    "tip_30 = (30/100) * meal_price                                     # Calculating 30% tip\n",
    "\n",
    "# Display Output\n",
    "print ('----------------------------------')\n",
    "print ('Amount of Food Bill : ', meal_price)                       # Display Food Bill\n",
    "print ('Tip at 18%          : ', tip_18)                           # Display 18% tip as per food bill\n",
    "print ('Tip at 20%          : ', tip_20)                           # Display 20% tip as per food bill\n",
    "print ('Tip at 30%          : ', tip_30)                           # Display 30% tip as per food bill"
   ]
  },
  {
   "cell_type": "markdown",
   "metadata": {},
   "source": [
    "### TEMPERATURE CONVERTOR\n",
    "#### To Convert Temperature from degree Celcius to Fahrenheit"
   ]
  },
  {
   "cell_type": "markdown",
   "metadata": {},
   "source": [
    "### Grading Comments for Program 2 By Dr. Mehta \n",
    "\n",
    "### grade = 7/7\n"
   ]
  },
  {
   "cell_type": "code",
   "execution_count": null,
   "metadata": {},
   "outputs": [],
   "source": [
    "# For converting Temperature from degree Celcius to degree Fahrenheit, the formula used is:\n",
    "# F = (9/5)*C + 32 , where F = temperature in Fahrenheit, C = Temperature in Celcius\n",
    "\n",
    "# Define Input\n",
    "temp_celsius = float (input ('Enter temperature in Celcius : '))   # Take temperature input from user in Celcius\n",
    "\n",
    "# Define Process\n",
    "temp_fahrenheit = (9/5 * temp_celsius) + 32                        # Convert from degree Celcius to Fahrenheit\n",
    "\n",
    "# Display Output\n",
    "print ('-----------------------------------------------------')\n",
    "print ('The temperature in Fahrenheit for', temp_celsius,          # Display final output in Fahrenheit\n",
    "       'degree Celsius =', temp_fahrenheit, 'degrees Fahrenheit.')"
   ]
  },
  {
   "cell_type": "markdown",
   "metadata": {},
   "source": [
    "### INGREDIENT ADJUSTER FOR COOKIES\n",
    "#### To know the quantitiy of Ingredients for baking Cookies"
   ]
  },
  {
   "cell_type": "markdown",
   "metadata": {},
   "source": [
    "### Grading Comments for Program 3 By Dr. Mehta                              \n",
    "\n",
    "### Grade= 6/7\n",
    "\n",
    "\n",
    "Please refer to my comments above for defining constants for ingedients needed for recipe.\n",
    "\n",
    "#Define Input \n",
    "NUM_COOKIES_RECIPE = 48 \n",
    "SUGAR_RECIPE = 1.5 \n",
    "UTTER_RECIPE = 1.0 \n",
    "FLOUR_RECIPE = 2.75\n",
    "\n",
    "#Define Process \n",
    "adj_cups_sugar = (SUGAR_RECIPE/NUM_COOKIES_RECIPE)/num_cookies_bake\n",
    "\n",
    "also, use more meaningful names for your variables and constants cups_Sugar is better than sugar!\n"
   ]
  },
  {
   "cell_type": "code",
   "execution_count": null,
   "metadata": {},
   "outputs": [],
   "source": [
    "# The below calculation is based on the following measurement-\n",
    "# To make 48 cookies, we require 1.5 cups of sugar, 1 cup of butter, 2.75 cups of flour\n",
    "\n",
    "# Define Input\n",
    "cookies = int (input ('How many Cookies do you want to make? '))   # Take input from user\n",
    "\n",
    "# Define Process\n",
    "sugar = (1.5/48)*cookies                                           # Calculate the amount of sugar needed\n",
    "butter = (1/48)*cookies                                            # Calculate the amount of butter needed\n",
    "flour = (2.75/48)*cookies                                          # Calculate the amount of flour needed\n",
    "\n",
    "# Display Output\n",
    "print ('------------------------------------------')\n",
    "print ('To make',cookies,'cookies, you will need : ')               # Displays the quantity of Cookies\n",
    "print (sugar,'Cups of Sugar')                                      # Displays the amount of sugar required\n",
    "print (butter,'Cups of Butter')                                    # Displays the amount of butter required\n",
    "print (flour,'Cups of Flour')                                      # Displays the amount of flour required"
   ]
  }
 ],
 "metadata": {
  "kernelspec": {
   "display_name": "Python 3",
   "language": "python",
   "name": "python3"
  },
  "language_info": {
   "codemirror_mode": {
    "name": "ipython",
    "version": 3
   },
   "file_extension": ".py",
   "mimetype": "text/x-python",
   "name": "python",
   "nbconvert_exporter": "python",
   "pygments_lexer": "ipython3",
   "version": "3.8.3"
  }
 },
 "nbformat": 4,
 "nbformat_minor": 4
}
