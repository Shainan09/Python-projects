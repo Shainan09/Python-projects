{
 "cells": [
  {
   "cell_type": "markdown",
   "metadata": {},
   "source": [
    "## Shainan Agrawal\n",
    "### Date: 11/29/2020\n",
    "<font color=\"red\">\n",
    "    \n",
    "## Exception Handling\n",
    "\n",
    "</font>"
   ]
  },
  {
   "cell_type": "markdown",
   "metadata": {},
   "source": [
    "### Program to calculate miles_per_gallon from input mileage file and writing it to a new csv file, focusing on exception handling to prevent the program from crashing or an abrupt halt due to errors.\n",
    "#### Program will read miles driven and gas consumed from imput file, calculate mpg and write it to a output CSV File.\n",
    "#### Program will take care of IOError exceptions, ValueError exceptions, DivideByZero exceptions and FileNotFoundError exception"
   ]
  },
  {
   "cell_type": "code",
   "execution_count": 1,
   "metadata": {},
   "outputs": [],
   "source": [
    "def get_data():\n",
    "    \"\"\"Read data from input file,handle invalid file path or filename errors,IO error and value errors \"\"\"\n",
    "\n",
    "    import pandas as pd\n",
    "    import os\n",
    "    try:\n",
    "        mileage_input = open('/Users/cis_developer/CIS5357Fall2020/mileage.csv','r', newline=\"\")\n",
    "        mileage_df = pd.read_csv(mileage_input, header = 0)\n",
    "        mileage_df['miles'] = mileage_df['miles'].astype('float')\n",
    "        mileage_df['gas'] = mileage_df['gas'].astype('float')\n",
    "    except FileNotFoundError as fne:\n",
    "        print(\"\\nInput filename or File path is invalid. Please check and try again\")\n",
    "        print(\"\\nTerminating program.\")\n",
    "    except OSError as ose:\n",
    "        print(ose)\n",
    "        print(\"\\nThe program will now terminate as a result of this error\")\n",
    "    except ValueError as ve:\n",
    "        print(f\"\\nA non-numeric value was found for either miles driven or gallons of gas consumed.\\nRows with non-numeric values will be dropped from the dataframe.\")\n",
    "        print(\"The resulting dataframe is:\")\n",
    "        mileage_df = mileage_df[pd.to_numeric(mileage_df['miles'], errors = 'coerce').notnull()]\n",
    "        mileage_df = mileage_df[pd.to_numeric(mileage_df['gas'], errors = 'coerce').notnull()]\n",
    "        mileage_df['miles'] = mileage_df['miles'].astype('float')\n",
    "        mileage_df['gas'] = mileage_df['gas'].astype('float')\n",
    "        return mileage_df\n",
    "    else:\n",
    "        return mileage_df\n",
    "    finally:\n",
    "        try:\n",
    "            if not mileage_input.closed:\n",
    "                mileage_input.close()\n",
    "        except UnboundLocalError:\n",
    "                raise Exception"
   ]
  },
  {
   "cell_type": "code",
   "execution_count": 2,
   "metadata": {},
   "outputs": [],
   "source": [
    "def compute_mpg(mileage_df):\n",
    "    \"\"\"compute mpg, checks for divide by zero error.\"\"\"\n",
    "    \n",
    "    import pandas as pd\n",
    "    import numpy as np\n",
    "    \n",
    "    for record in mileage_df:\n",
    "        miles_driven = mileage_df.miles\n",
    "        gas_consumed = mileage_df.gas\n",
    "        miles_per_gallon = (miles_driven / gas_consumed).round(2)\n",
    "    mileage_df['mpg'] = miles_per_gallon\n",
    "    print('Data Frame after calculating mpg: ')\n",
    "    display(mileage_df)\n",
    "    mileage_df = mileage_df.replace([np.inf, -np.inf], np.nan).dropna(axis=0)\n",
    "    print(\"\\nAny rows containing divide by zero result will be dropped from the dataframe.\\nThe resulting dataframe is:\\n\")\n",
    "    display(mileage_df)\n",
    "    return mileage_df\n"
   ]
  },
  {
   "cell_type": "code",
   "execution_count": 3,
   "metadata": {},
   "outputs": [],
   "source": [
    "def write_results(mileage_df):\n",
    "    \"\"\"write the data to mpg.csv file,\"\"\"\n",
    "\n",
    "    import pandas as pd\n",
    "    import os\n",
    "    \n",
    "    try:\n",
    "        mpg_output_filepath = '/Users/cis_developer/CIS5357Fall2020/mpg.csv'\n",
    "        if os.path.exists(mpg_output_filepath):\n",
    "            print(\"\\nWarning! Output file exists.If you continue, it will be overwritten\")\n",
    "            proceed = input(\"Continue (Y or N)?  \")\n",
    "            if proceed.upper() == \"N\":\n",
    "                print(\"\\nUser chose to terminate the program because the output file exists\")\n",
    "            else:\n",
    "                mpg_output = open('/Users/cis_developer/CIS5357Fall2020/mpg.csv', 'w')\n",
    "                mileage_df.to_csv(mpg_output, index=0)\n",
    "                print(f\"\\nNumber of records written to mpg.csv file: {len(mileage_df)}\")\n",
    "                print(\"\\nProgram terminated normally\")\n",
    "        else: \n",
    "            raise FileNotFoundError\n",
    "    except FileNotFoundError as fne:\n",
    "        print(\"\\nThere was an error locating output file. Please check the path or filename\")\n",
    "        print(\"\\nTerminating Program\")\n",
    "    except OSError as ose:\n",
    "        print(f\"\\nAn error occurred trying to write to file. {ose}\")\n",
    "        print(\"\\nThe program will now terminate as a result of this error\")\n",
    "    else:\n",
    "        try:\n",
    "            if not mpg_output.closed:\n",
    "                mpg_output.close()\n",
    "        except UnboundLocalError:\n",
    "            raise Exception\n"
   ]
  },
  {
   "cell_type": "code",
   "execution_count": 4,
   "metadata": {},
   "outputs": [],
   "source": [
    "def main():\n",
    "    \"\"\"Controls flow of execution of program.\"\"\"\n",
    "    try:\n",
    "        mileage_df = get_data()\n",
    "        mileage_df = compute_mpg(mileage_df)\n",
    "        write_results(mileage_df)\n",
    "    except Exception:\n",
    "        pass             "
   ]
  },
  {
   "cell_type": "code",
   "execution_count": 5,
   "metadata": {},
   "outputs": [
    {
     "name": "stdout",
     "output_type": "stream",
     "text": [
      "\n",
      "A non-numeric value was found for either miles driven or gallons of gas consumed.\n",
      "Rows with non-numeric values will be dropped from the dataframe.\n",
      "The resulting dataframe is:\n",
      "Data Frame after calculating mpg: \n"
     ]
    },
    {
     "data": {
      "text/html": [
       "<div>\n",
       "<style scoped>\n",
       "    .dataframe tbody tr th:only-of-type {\n",
       "        vertical-align: middle;\n",
       "    }\n",
       "\n",
       "    .dataframe tbody tr th {\n",
       "        vertical-align: top;\n",
       "    }\n",
       "\n",
       "    .dataframe thead th {\n",
       "        text-align: right;\n",
       "    }\n",
       "</style>\n",
       "<table border=\"1\" class=\"dataframe\">\n",
       "  <thead>\n",
       "    <tr style=\"text-align: right;\">\n",
       "      <th></th>\n",
       "      <th>miles</th>\n",
       "      <th>gas</th>\n",
       "      <th>mpg</th>\n",
       "    </tr>\n",
       "  </thead>\n",
       "  <tbody>\n",
       "    <tr>\n",
       "      <th>0</th>\n",
       "      <td>225.0</td>\n",
       "      <td>17.0</td>\n",
       "      <td>13.24</td>\n",
       "    </tr>\n",
       "    <tr>\n",
       "      <th>1</th>\n",
       "      <td>1374.0</td>\n",
       "      <td>64.0</td>\n",
       "      <td>21.47</td>\n",
       "    </tr>\n",
       "    <tr>\n",
       "      <th>2</th>\n",
       "      <td>2514.0</td>\n",
       "      <td>0.0</td>\n",
       "      <td>inf</td>\n",
       "    </tr>\n",
       "  </tbody>\n",
       "</table>\n",
       "</div>"
      ],
      "text/plain": [
       "    miles   gas    mpg\n",
       "0   225.0  17.0  13.24\n",
       "1  1374.0  64.0  21.47\n",
       "2  2514.0   0.0    inf"
      ]
     },
     "metadata": {},
     "output_type": "display_data"
    },
    {
     "name": "stdout",
     "output_type": "stream",
     "text": [
      "\n",
      "Any rows containing divide by zero result will be dropped from the dataframe.\n",
      "The resulting dataframe is:\n",
      "\n"
     ]
    },
    {
     "data": {
      "text/html": [
       "<div>\n",
       "<style scoped>\n",
       "    .dataframe tbody tr th:only-of-type {\n",
       "        vertical-align: middle;\n",
       "    }\n",
       "\n",
       "    .dataframe tbody tr th {\n",
       "        vertical-align: top;\n",
       "    }\n",
       "\n",
       "    .dataframe thead th {\n",
       "        text-align: right;\n",
       "    }\n",
       "</style>\n",
       "<table border=\"1\" class=\"dataframe\">\n",
       "  <thead>\n",
       "    <tr style=\"text-align: right;\">\n",
       "      <th></th>\n",
       "      <th>miles</th>\n",
       "      <th>gas</th>\n",
       "      <th>mpg</th>\n",
       "    </tr>\n",
       "  </thead>\n",
       "  <tbody>\n",
       "    <tr>\n",
       "      <th>0</th>\n",
       "      <td>225.0</td>\n",
       "      <td>17.0</td>\n",
       "      <td>13.24</td>\n",
       "    </tr>\n",
       "    <tr>\n",
       "      <th>1</th>\n",
       "      <td>1374.0</td>\n",
       "      <td>64.0</td>\n",
       "      <td>21.47</td>\n",
       "    </tr>\n",
       "  </tbody>\n",
       "</table>\n",
       "</div>"
      ],
      "text/plain": [
       "    miles   gas    mpg\n",
       "0   225.0  17.0  13.24\n",
       "1  1374.0  64.0  21.47"
      ]
     },
     "metadata": {},
     "output_type": "display_data"
    },
    {
     "name": "stdout",
     "output_type": "stream",
     "text": [
      "\n",
      "Warning! Output file exists.If you continue, it will be overwritten\n",
      "Continue (Y or N)?  y\n",
      "\n",
      "Number of records written to mpg.csv file: 2\n",
      "\n",
      "Program terminated normally\n"
     ]
    }
   ],
   "source": [
    "main()"
   ]
  }
 ],
 "metadata": {
  "kernelspec": {
   "display_name": "Python 3",
   "language": "python",
   "name": "python3"
  },
  "language_info": {
   "codemirror_mode": {
    "name": "ipython",
    "version": 3
   },
   "file_extension": ".py",
   "mimetype": "text/x-python",
   "name": "python",
   "nbconvert_exporter": "python",
   "pygments_lexer": "ipython3",
   "version": "3.8.3"
  }
 },
 "nbformat": 4,
 "nbformat_minor": 4
}
