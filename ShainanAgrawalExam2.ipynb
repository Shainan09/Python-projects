{
 "cells": [
  {
   "cell_type": "markdown",
   "metadata": {},
   "source": [
    "## Shainan Agrawal\n",
    "### Date: 10/30/2020"
   ]
  },
  {
   "cell_type": "markdown",
   "metadata": {},
   "source": [
    "### Grading Comments – Totality of all points noted below resulted in a reduction of xx Points"
   ]
  },
  {
   "cell_type": "markdown",
   "metadata": {},
   "source": [
    "### SUMMARY REPORT OF COURSES SCHEDULED IN A COLLEGE\n",
    "#### A program to prepare a report of all courses available and scheduled at a college in Texas \n",
    "#### Program will take input from exam2.json and Courses.txt file and print summary output to console and Exam2Output.txt file."
   ]
  },
  {
   "cell_type": "code",
   "execution_count": 1,
   "metadata": {},
   "outputs": [],
   "source": [
    "def get_course_data():\n",
    "    \"\"\"Access JSON and CSV file to read all the courses available and scheduled course information \"\"\"\n",
    "    \n",
    "    import json\n",
    "    scheduled_course_dict = {}\n",
    "    available_course_list = []\n",
    "    available_course_list_cleaned = []\n",
    "\n",
    "    with open('/Users/shainan/CIS5357/exam2.json', 'r') as json_input_file:\n",
    "        scheduled_course_dict = json.load(json_input_file)\n",
    "    json_input_file.close()\n",
    "\n",
    "    course_input_file = open('/Users/shainan/CIS5357/Courses.txt', 'r')\n",
    "    available_course_list = course_input_file.readlines()\n",
    "    course_input_file.close()\n",
    "\n",
    "    for course in available_course_list:\n",
    "        course_split = course.rstrip('\\n')\n",
    "        available_course_list_cleaned.append(course_split)\n",
    "\n",
    "    return scheduled_course_dict,available_course_list_cleaned"
   ]
  },
  {
   "cell_type": "code",
   "execution_count": 2,
   "metadata": {},
   "outputs": [],
   "source": [
    "def process_course_data(scheduled_course_dict,available_course_list_cleaned):\n",
    "    \"\"\"Check if the course is already scheduled or not in the current semester\"\"\"\n",
    "    \"\"\"if yes,extract information else display message \"\"\"\n",
    "    \n",
    "    course_scheduled = []\n",
    "    course_scheduled_count = 0\n",
    "    course_notscheduled_count = 0\n",
    "\n",
    "    for course in available_course_list_cleaned:\n",
    "        flag = 0\n",
    "        for (key, value) in scheduled_course_dict.items():\n",
    "            if course == key:\n",
    "                available_course_dict_string = (f\"{key},{value['Room']},{value['Start Time']},{value['Instructor']}\")\n",
    "                course_scheduled_count += 1\n",
    "                flag =1\n",
    "\n",
    "        if flag == 0:\n",
    "            available_course_dict_string = (f\"{course},The course is not scheduled to be offered this semester\")\n",
    "            course_notscheduled_count +=1\n",
    "        course_scheduled.append(available_course_dict_string)\n",
    "        \n",
    "    total_courses = course_scheduled_count + course_notscheduled_count\n",
    "    return course_scheduled, total_courses, course_scheduled_count,course_notscheduled_count"
   ]
  },
  {
   "cell_type": "code",
   "execution_count": 3,
   "metadata": {},
   "outputs": [],
   "source": [
    "def print_course_schedule(course_scheduled, total_courses, course_scheduled_count,course_notscheduled_count):\n",
    "    \"\"\"display course information and course summary on console \"\"\"\n",
    "    \n",
    "    print(f\"\\n{format('Course','<8')}\\t{format('Room no','<8')}\\t{format('Start Time','<8')}\\t{format('Instructor','<8')}\")\n",
    "    print(f\"{format('------','<8')}\\t{format('-------','<8')}\\t{format('----------','<8')}\\t{format('----------','<8')}\")\n",
    "    \n",
    "    for course in course_scheduled:\n",
    "        course_split = course.split(',')\n",
    "        if len(course_split) > 2:\n",
    "            course_id = course_split[0]\n",
    "            Room_no = course_split[1]\n",
    "            Start_time = course_split[2]\n",
    "            Instructor = course_split[3]   \n",
    "            print(f\"{course_id}\\t\\t{Room_no}\\t{Start_time}\\t{Instructor}\")\n",
    "        \n",
    "        else:\n",
    "            course_id = course_split[0]\n",
    "            message = course_split[1]\n",
    "            print(f\"{course_id}\\t\\t{message}\")\n",
    "            \n",
    "    print(\"\\n\\nTotal number of courses available : \\t\",total_courses)\n",
    "    print(\"Total number of courses scheduled : \\t\",course_scheduled_count)\n",
    "    print(\"Total number of courses not scheduled : \",course_notscheduled_count)\n",
    "    print(\"\\nProgram completed successfully\\n\")\n",
    "    "
   ]
  },
  {
   "cell_type": "code",
   "execution_count": 4,
   "metadata": {},
   "outputs": [],
   "source": [
    "def write_course_schedule(course_scheduled, total_courses, course_scheduled_count,course_notscheduled_count):\n",
    "    \"\"\"display course information and course summary in the report output text file\"\"\"\n",
    "    \n",
    "    Exam_Output_File = open ('/Users/shainan/CIS5357/Exam2Output.txt','w')\n",
    "    \n",
    "    Header1 = (f\"{format('Course','<8')}\\t{format('Room no','<8')}\\t{format('Start Time','<8')}\\t{format('Instructor','<8')}\")\n",
    "    Header2 =(f\"\\n{format('------','<8')}\\t{format('-------','<8')}\\t{format('----------','<8')}\\t{format('----------','<8')}\\n\")\n",
    "    Exam_Output_File.writelines(Header1)\n",
    "    Exam_Output_File.writelines(Header2)\n",
    "    \n",
    "    for course in course_scheduled:\n",
    "        course_split = course.split(',')\n",
    "        if len(course_split) ==4:\n",
    "            course_id = course_split[0]\n",
    "            Room_no = course_split[1]\n",
    "            Instructor = course_split[2]\n",
    "            Start_time = course_split[3]        \n",
    "            record = (f\"{course_id}\\t\\t{Room_no}\\t{Instructor}\\t{Start_time}\\n\")\n",
    "        else:\n",
    "            course_id = course_split[0]\n",
    "            message = course_split[1]\n",
    "            record = (f\"{course_id}\\t\\t{message}\\n\")\n",
    "        Exam_Output_File.writelines(record)\n",
    "    \n",
    "    summary = (f\"\\n\\nTotal number of courses available : \\t{total_courses}\\\n",
    "    \\nTotal number of courses scheduled : \\t{course_scheduled_count}\\\n",
    "    \\nTotal number of courses not scheduled : {course_notscheduled_count}\\n\\nProgram completed successfully\")\n",
    "\n",
    "    Exam_Output_File.writelines(summary)\n",
    "    Exam_Output_File.close()"
   ]
  },
  {
   "cell_type": "code",
   "execution_count": 5,
   "metadata": {},
   "outputs": [],
   "source": [
    "def main():\n",
    "    \"\"\"This is the main driver program that controls the flow of execution\"\"\"\n",
    "    \n",
    "    #call get_course_data() function\n",
    "    scheduled_course_dict , available_course_list_cleaned = get_course_data()\n",
    "    \n",
    "    #call process_course_data() function\n",
    "    course_scheduled, total_courses, course_scheduled_count, course_notscheduled_count = \\\n",
    "    process_course_data(scheduled_course_dict,available_course_list_cleaned)\n",
    "    \n",
    "    #call print_course_schedule () function\n",
    "    print_course_schedule (course_scheduled,total_courses, course_scheduled_count,course_notscheduled_count)\n",
    "    \n",
    "    #call write_course_schedule () function\n",
    "    write_course_schedule (course_scheduled,total_courses, course_scheduled_count,course_notscheduled_count)"
   ]
  },
  {
   "cell_type": "code",
   "execution_count": 6,
   "metadata": {},
   "outputs": [
    {
     "name": "stdout",
     "output_type": "stream",
     "text": [
      "\n",
      "Course  \tRoom no \tStart Time\tInstructor\n",
      "------  \t------- \t----------\t----------\n",
      "CS101\t\tCSB 3004\tMWF 8:00AM\tHenry Haynes\n",
      "CS102\t\tCSB 4501\tMWF 9:00AM\tRichard Alvardo\n",
      "CS103\t\tCSB 6755\tMWF 10:00AM\tI. M. Rich\n",
      "NT110\t\tAlk 1244\tMWF 11:00AM\tCharles Burke\n",
      "CM241\t\tALK 1411\tTR 1:00PM\tVicki Lees\n",
      "CIS1323\t\tThe course is not scheduled to be offered this semester\n",
      "CIS2324\t\tMCOY 332\tTR 9:30AM\tSam Lee\n",
      "CIS3325\t\tMCOY 332\tTR 2:00PM\tJim Keefe\n",
      "CIS3389\t\tThe course is not scheduled to be offered this semester\n",
      "CIS5357\t\tMCOY 224\tT 6:30PM\tM. Mehta\n",
      "CIS3391\t\tThe course is not scheduled to be offered this semester\n",
      "CIS3392\t\tThe course is not scheduled to be offered this semester\n",
      "QM2333\t\tMCOY 222\tTR 12:30PM\tJennifer Masters\n",
      "QM3339\t\tThe course is not scheduled to be offered this semester\n",
      "QM5335\t\tThe course is not scheduled to be offered this semester\n",
      "QM5336\t\tMCOY 319\tW 6:30PM\tM. Musal\n",
      "FIN3312\t\tThe course is not scheduled to be offered this semester\n",
      "FIN4335\t\tThe course is not scheduled to be offered this semester\n",
      "\n",
      "\n",
      "Total number of courses available : \t 18\n",
      "Total number of courses scheduled : \t 10\n",
      "Total number of courses not scheduled :  8\n",
      "\n",
      "Program completed successfully\n",
      "\n"
     ]
    }
   ],
   "source": [
    "main()"
   ]
  }
 ],
 "metadata": {
  "kernelspec": {
   "display_name": "Python 3",
   "language": "python",
   "name": "python3"
  },
  "language_info": {
   "codemirror_mode": {
    "name": "ipython",
    "version": 3
   },
   "file_extension": ".py",
   "mimetype": "text/x-python",
   "name": "python",
   "nbconvert_exporter": "python",
   "pygments_lexer": "ipython3",
   "version": "3.8.3"
  }
 },
 "nbformat": 4,
 "nbformat_minor": 4
}
